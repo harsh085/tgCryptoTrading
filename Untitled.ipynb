{
 "cells": [
  {
   "cell_type": "code",
   "execution_count": 2,
   "id": "d47a3360-72e5-4599-92c9-ebaa88c8073b",
   "metadata": {},
   "outputs": [],
   "source": [
    "import datetime\n",
    "from config import TRADE_DCA_PATH, TRADE_HISTORY_PATH\n",
    "import pandas as pd\n",
    "import numpy as np\n",
    "import api\n",
    "import sendFile\n",
    "\n",
    "df = pd.read_csv(TRADE_DCA_PATH)"
   ]
  },
  {
   "cell_type": "code",
   "execution_count": 17,
   "id": "60ab906e-2363-4600-a8db-be66fac00b15",
   "metadata": {},
   "outputs": [
    {
     "name": "stdout",
     "output_type": "stream",
     "text": [
      "                                     name    coin    curr_price  \\\n",
      "0                                SAMPLExx  sample      0.000000   \n",
      "1                                 Bitcoin     BTC  59767.002050   \n",
      "2                      Unifi Protocol DAO    UNFI      2.692355   \n",
      "3                                  TrueFi     TRU      0.088776   \n",
      "4                                 Phoenix     PHB      1.285281   \n",
      "..                                    ...     ...           ...   \n",
      "71  Artificial Superintelligence Alliance     FET      1.206449   \n",
      "72                                  Quant     QNT     64.619005   \n",
      "73                                 Render  RENDER      5.567246   \n",
      "74                                  Renzo     REZ      0.040213   \n",
      "75                              Numeraire     NMR     15.840280   \n",
      "\n",
      "    bh_curr_profit  bk_curr_profit  by_curr_profit  ku_curr_profit  \\\n",
      "0              NaN             NaN             NaN             NaN   \n",
      "1        12.010074       18.617322             NaN             NaN   \n",
      "2              NaN      -23.075563             NaN             NaN   \n",
      "3              NaN      -26.019736             NaN             NaN   \n",
      "4              NaN      -22.104193             NaN             NaN   \n",
      "..             ...             ...             ...             ...   \n",
      "71      -39.677567             NaN             NaN             NaN   \n",
      "72      -39.293210             NaN             NaN             NaN   \n",
      "73             NaN       23.716577             NaN             NaN   \n",
      "74             NaN      -10.835704             NaN             NaN   \n",
      "75      -32.594553             NaN             NaN             NaN   \n",
      "\n",
      "    ga_curr_profit  g1      bh_price  ...  by_size  g4  ku_price  ku_size  g5  \\\n",
      "0                0 NaN      0.000000  ...      0.0 NaN       0.0      0.0 NaN   \n",
      "1                0 NaN  53358.595360  ...      0.0 NaN       0.0      0.0 NaN   \n",
      "2                0 NaN      0.000000  ...      0.0 NaN       0.0      0.0 NaN   \n",
      "3                0 NaN      0.000000  ...      0.0 NaN       0.0      0.0 NaN   \n",
      "4                0 NaN      0.000000  ...      0.0 NaN       0.0      0.0 NaN   \n",
      "..             ...  ..           ...  ...      ...  ..       ...      ...  ..   \n",
      "71               0 NaN      2.000000  ...      0.0 NaN       0.0      0.0 NaN   \n",
      "72               0 NaN    106.444444  ...      0.0 NaN       0.0      0.0 NaN   \n",
      "73               0 NaN      0.000000  ...      0.0 NaN       0.0      0.0 NaN   \n",
      "74               0 NaN      0.000000  ...      0.0 NaN       0.0      0.0 NaN   \n",
      "75               0 NaN     23.500000  ...      0.0 NaN       0.0      0.0 NaN   \n",
      "\n",
      "    ga_price  ga_size  g6  profit  remarks  \n",
      "0          0        0 NaN     0.0   sample  \n",
      "1          0        0 NaN     0.0      NaN  \n",
      "2          0        0 NaN     0.0      NaN  \n",
      "3          0        0 NaN     0.0      NaN  \n",
      "4          0        0 NaN     0.0      NaN  \n",
      "..       ...      ...  ..     ...      ...  \n",
      "71         0        0 NaN     0.0      NaN  \n",
      "72         0        0 NaN     0.0      NaN  \n",
      "73         0        0 NaN     0.0      NaN  \n",
      "74         0        0 NaN     0.0      NaN  \n",
      "75         0        0 NaN     0.0      NaN  \n",
      "\n",
      "[76 rows x 26 columns]\n"
     ]
    }
   ],
   "source": [
    "try:\n",
    "    l=\"setremarks bnb monitoring_ss\".split()\n",
    "    df = pd.read_csv(TRADE_DCA_PATH)\n",
    "    if (df[\"coin\"] == l[1].upper()).any():\n",
    "        df.loc[df[\"coin\"]==l[1], \"remarks\"] = l[2].replace(\"_\",\" \")\n",
    "        df.to_csv(TRADE_DCA_PATH, index=False)\n",
    "    else:\n",
    "        print(\"coin not present.\")\n",
    "    print(df)\n",
    "    # return \"success\"\n",
    "except Exception as e:\n",
    "    print(e)\n",
    "    # return str(e) + \"\\n\""
   ]
  },
  {
   "cell_type": "code",
   "execution_count": 18,
   "id": "9575fd46-5d7f-4188-b36e-514de4995478",
   "metadata": {},
   "outputs": [
    {
     "name": "stdout",
     "output_type": "stream",
     "text": [
      "Success: Remarks updated.\n",
      "                                     name    coin    curr_price  \\\n",
      "0                                SAMPLExx  sample      0.000000   \n",
      "1                                 Bitcoin     BTC  59767.002050   \n",
      "2                      Unifi Protocol DAO    UNFI      2.692355   \n",
      "3                                  TrueFi     TRU      0.088776   \n",
      "4                                 Phoenix     PHB      1.285281   \n",
      "..                                    ...     ...           ...   \n",
      "71  Artificial Superintelligence Alliance     FET      1.206449   \n",
      "72                                  Quant     QNT     64.619005   \n",
      "73                                 Render  RENDER      5.567246   \n",
      "74                                  Renzo     REZ      0.040213   \n",
      "75                              Numeraire     NMR     15.840280   \n",
      "\n",
      "    bh_curr_profit  bk_curr_profit  by_curr_profit  ku_curr_profit  \\\n",
      "0              NaN             NaN             NaN             NaN   \n",
      "1        12.010074       18.617322             NaN             NaN   \n",
      "2              NaN      -23.075563             NaN             NaN   \n",
      "3              NaN      -26.019736             NaN             NaN   \n",
      "4              NaN      -22.104193             NaN             NaN   \n",
      "..             ...             ...             ...             ...   \n",
      "71      -39.677567             NaN             NaN             NaN   \n",
      "72      -39.293210             NaN             NaN             NaN   \n",
      "73             NaN       23.716577             NaN             NaN   \n",
      "74             NaN      -10.835704             NaN             NaN   \n",
      "75      -32.594553             NaN             NaN             NaN   \n",
      "\n",
      "    ga_curr_profit  g1      bh_price  ...  by_size  g4  ku_price  ku_size  g5  \\\n",
      "0                0 NaN      0.000000  ...      0.0 NaN       0.0      0.0 NaN   \n",
      "1                0 NaN  53358.595360  ...      0.0 NaN       0.0      0.0 NaN   \n",
      "2                0 NaN      0.000000  ...      0.0 NaN       0.0      0.0 NaN   \n",
      "3                0 NaN      0.000000  ...      0.0 NaN       0.0      0.0 NaN   \n",
      "4                0 NaN      0.000000  ...      0.0 NaN       0.0      0.0 NaN   \n",
      "..             ...  ..           ...  ...      ...  ..       ...      ...  ..   \n",
      "71               0 NaN      2.000000  ...      0.0 NaN       0.0      0.0 NaN   \n",
      "72               0 NaN    106.444444  ...      0.0 NaN       0.0      0.0 NaN   \n",
      "73               0 NaN      0.000000  ...      0.0 NaN       0.0      0.0 NaN   \n",
      "74               0 NaN      0.000000  ...      0.0 NaN       0.0      0.0 NaN   \n",
      "75               0 NaN     23.500000  ...      0.0 NaN       0.0      0.0 NaN   \n",
      "\n",
      "    ga_price  ga_size  g6  profit  remarks  \n",
      "0          0        0 NaN     0.0   sample  \n",
      "1          0        0 NaN     0.0      NaN  \n",
      "2          0        0 NaN     0.0      NaN  \n",
      "3          0        0 NaN     0.0      NaN  \n",
      "4          0        0 NaN     0.0      NaN  \n",
      "..       ...      ...  ..     ...      ...  \n",
      "71         0        0 NaN     0.0      NaN  \n",
      "72         0        0 NaN     0.0      NaN  \n",
      "73         0        0 NaN     0.0      NaN  \n",
      "74         0        0 NaN     0.0      NaN  \n",
      "75         0        0 NaN     0.0      NaN  \n",
      "\n",
      "[76 rows x 26 columns]\n"
     ]
    }
   ],
   "source": [
    "import pandas as pd\n",
    "\n",
    "    # return str(e) + \"\\n\"\n"
   ]
  },
  {
   "cell_type": "code",
   "execution_count": 26,
   "id": "35c7520b-ad52-45e4-a59e-526d45ff6702",
   "metadata": {},
   "outputs": [
    {
     "name": "stdout",
     "output_type": "stream",
     "text": [
      "\n",
      "'BNB' : monitoring hgh\n",
      "'LOOM' : monitoring\n"
     ]
    },
    {
     "data": {
      "text/plain": [
       "\"\\n'BNB' : monitoring hgh\\n'LOOM' : monitoring\""
      ]
     },
     "execution_count": 26,
     "metadata": {},
     "output_type": "execute_result"
    }
   ],
   "source": [
    "def all_remarks():\n",
    "    try:\n",
    "        df = pd.read_csv(TRADE_DCA_PATH)\n",
    "                # Filter out rows where 'remarks' is NaN or empty\n",
    "        filtered_df = df.dropna(subset=[\"remarks\"])\n",
    "        s = \"\\n\".join(filtered_df.apply(lambda row: f\"'{row['coin']}' : {row['remarks']}\" if not row['coin'] == 'sample' else '', axis=1))\n",
    "        print(s)\n",
    "        return s\n",
    "    except Exception as e:\n",
    "        return str(e) + \"\\n\"\n",
    "all_remarks()"
   ]
  }
 ],
 "metadata": {
  "kernelspec": {
   "display_name": "Python 3 (ipykernel)",
   "language": "python",
   "name": "python3"
  },
  "language_info": {
   "codemirror_mode": {
    "name": "ipython",
    "version": 3
   },
   "file_extension": ".py",
   "mimetype": "text/x-python",
   "name": "python",
   "nbconvert_exporter": "python",
   "pygments_lexer": "ipython3",
   "version": "3.12.4"
  }
 },
 "nbformat": 4,
 "nbformat_minor": 5
}
